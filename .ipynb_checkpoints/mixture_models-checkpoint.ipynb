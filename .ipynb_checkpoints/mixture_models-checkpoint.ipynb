{
 "cells": [
  {
   "cell_type": "markdown",
   "metadata": {},
   "source": [
    "# Expectation Maximization - Gaussian Mixture Model & K-mean Clustering"
   ]
  },
  {
   "cell_type": "markdown",
   "metadata": {},
   "source": [
    "## Overview\n",
    "This is a pet project where I trained a mixture of Gaussians (Gaussian Mixture Model) to represent an image and segment it according to the simplified representation. The model is trained with expectation-maximization.\n",
    "\n",
    "**Note:** a highlight of this project is that, due to the huge volume of data manipulcation/calculation, code vectorization is applied using numpy package with multi-layer matrix (k x m x n). It's a good vectoration experiement. :) \n",
    "\n",
    "In details, the project consists of following steps: \n",
    "1. [Warm-up] Implement k-means clustering to segment a color image.\n",
    "2. Construct a Gaussian mixture model to be trained with expectation-maximization.\n",
    "3. Play around with the details of the Gaussian mixture model’s implementation.\n",
    "4. Implement and test a new metric called the Bayesian information criterion, which guarantees a more robust image segmentation.\n",
    "\n",
    "**Result Preview**: \n",
    "\n",
    "Image segamentation with K-mean Clustering (results with different K is shown below):\n",
    "\n",
    "![bird_color](images/bird_all4.png)\n",
    "\n",
    "\n",
    "\n",
    "\n",
    "\n",
    "<br>\n",
    "\n",
    "- - -"
   ]
  },
  {
   "cell_type": "markdown",
   "metadata": {},
   "source": [
    "## 1. K-means Clustering\n",
    "\n",
    "As a warm-up, k-means clustering is an easy method to do image segmentation. It simply clusters all similar data points together and then replace with the mean value. **Vectorization is need!**\n",
    "\n",
    "### Steps: \n",
    "1. K-means Clustering - 2D dataset & its visualization (interative charts provided)\n",
    "2. K-means Clustering - Image Segmentation & its visualization\n",
    "\n",
    "`get_initial_means()`: Calculate initial cluster means by selecting k number of points from the data (without replacement)\n",
    "\n",
    "`k_means_step()`: A single update/step of the K-means algorithm\n"
   ]
  },
  {
   "cell_type": "code",
   "execution_count": 12,
   "metadata": {
    "deletable": false,
    "editable": false,
    "tags": [
     "graded"
    ]
   },
   "outputs": [
    {
     "ename": "ModuleNotFoundError",
     "evalue": "No module named '__main__.helper_functions'; '__main__' is not a package",
     "output_type": "error",
     "traceback": [
      "\u001b[1;31m---------------------------------------------------------------------------\u001b[0m",
      "\u001b[1;31mModuleNotFoundError\u001b[0m                       Traceback (most recent call last)",
      "\u001b[1;32m<ipython-input-12-76b42138f575>\u001b[0m in \u001b[0;36m<module>\u001b[1;34m()\u001b[0m\n\u001b[0;32m      2\u001b[0m \u001b[1;31m# IF YOU ACCIDENTALL RUN IT, IT'S OK, YOU CAN IGNORE THE ERRORS\u001b[0m\u001b[1;33m\u001b[0m\u001b[1;33m\u001b[0m\u001b[0m\n\u001b[0;32m      3\u001b[0m \u001b[1;32mimport\u001b[0m \u001b[0mnumpy\u001b[0m \u001b[1;32mas\u001b[0m \u001b[0mnp\u001b[0m\u001b[1;33m\u001b[0m\u001b[0m\n\u001b[1;32m----> 4\u001b[1;33m \u001b[1;32mfrom\u001b[0m \u001b[1;33m.\u001b[0m\u001b[0mhelper_functions\u001b[0m \u001b[1;32mimport\u001b[0m \u001b[1;33m*\u001b[0m\u001b[1;33m\u001b[0m\u001b[0m\n\u001b[0m",
      "\u001b[1;31mModuleNotFoundError\u001b[0m: No module named '__main__.helper_functions'; '__main__' is not a package"
     ]
    }
   ],
   "source": [
    "# DON'T RUN THIS CELL IT WILL THROW AN ERROR\n",
    "# IF YOU ACCIDENTALL RUN IT, IT'S OK, YOU CAN IGNORE THE ERRORS\n",
    "import numpy as np\n",
    "from .helper_functions import *"
   ]
  },
  {
   "cell_type": "code",
   "execution_count": 1,
   "metadata": {
    "tags": [
     "graded"
    ]
   },
   "outputs": [
    {
     "name": "stderr",
     "output_type": "stream",
     "text": [
      "D:\\Softwares\\Continuum\\anaconda3\\lib\\site-packages\\IPython\\html.py:14: ShimWarning: The `IPython.html` package has been deprecated since IPython 4.0. You should import from `notebook` instead. `IPython.html.widgets` has moved to `ipywidgets`.\n",
      "  \"`IPython.html.widgets` has moved to `ipywidgets`.\", ShimWarning)\n"
     ]
    }
   ],
   "source": [
    "%load_ext autoreload\n",
    "%autoreload 2\n",
    "\n",
    "# Load all necessary modules\n",
    "from IPython.html.widgets import *\n",
    "import mixture_tests as tests\n",
    "import matplotlib.pyplot as plt\n",
    "import os\n",
    "import numpy as np\n",
    "import time as time\n",
    "from helper_functions import *\n",
    "\n",
    "def get_initial_means(array, k):\n",
    "    \"\"\"\n",
    "    Select k random points from the input array (without replacement) to use as initial cluster means\n",
    "\n",
    "    params:\n",
    "    array (np.ndarray): datapoints x features\n",
    "    k (int): number of random points\n",
    "\n",
    "    returns:\n",
    "    initial_means (np.ndarray)\n",
    "    \"\"\"\n",
    "\n",
    "    idx_row = np.arange(array.shape[0])\n",
    "    np.random.shuffle(idx_row)\n",
    "    \n",
    "    return array[idx_row[:k], :]\n",
    "\n",
    "\n",
    "def k_means_step(X, k, means):\n",
    "    \"\"\"\n",
    "    A single update/step of the K-means algorithm. Based on input X and current mean estimate\n",
    "    , calculate new means & predict clusters for each of the pixel\n",
    "    \n",
    "    params:\n",
    "    X (numpy.ndarray): pixels x features (flattened)\n",
    "    k (int)\n",
    "    means (numpy.ndarray): k x features\n",
    "\n",
    "    returns:\n",
    "    new_means (numpy.ndarray): k x features\n",
    "    clusters (numpy.ndarray):  m (vector)\n",
    "    \"\"\"\n",
    "\n",
    "    # Calc the distance of all data points to each mean\n",
    "    dist_all = [np.sqrt(np.sum(np.square(X - mean_i), axis=1)) for mean_i in means]\n",
    "                        \n",
    "    # Calc the argmin of all distances for each data point\n",
    "    clusters = np.argmin(np.array(dist_all), axis=0)\n",
    "    \n",
    "    # Calc new means\n",
    "    new_means = np.array([np.mean(X[clusters == uniq], axis=0) for uniq in np.unique(clusters)])\n",
    "    \n",
    "    return new_means, clusters\n"
   ]
  },
  {
   "cell_type": "markdown",
   "metadata": {},
   "source": [
    "### 1. K-means Clustering - 2D dataset (warm-up!)"
   ]
  },
  {
   "cell_type": "code",
   "execution_count": 2,
   "metadata": {},
   "outputs": [],
   "source": [
    "def K_means_2D_dataset(dataset_index, K):\n",
    "    \"\"\"\n",
    "    Load dataset from the /data folder and keep the training trajectory for later illustration purpose\n",
    "    \"\"\"\n",
    "    \n",
    "    # Load the dataset from data folder\n",
    "    X = np.loadtxt(\"data/%d_dataset_X.csv\" % dataset_index, delimiter=\",\")\n",
    "    print(\"The dataset is of a size:\", X.shape)\n",
    "\n",
    "    # Load the labels\n",
    "    # Clustering is unsupervised method, where no labels are provided\n",
    "    # However, load them for illustration purposes.\n",
    "    y = np.int16(np.loadtxt(\"data/%d_dataset_y.csv\" % dataset_index, delimiter=\",\"))\n",
    "\n",
    "    # Runs for n_iterations before terminating\n",
    "    n_iterations = 10\n",
    "    m,n = X.shape\n",
    "    means = get_initial_means(X,K)\n",
    "    clusters = np.zeros([n])\n",
    "    \n",
    "    # Keep track of how clusters and means changed, for visualization purposes\n",
    "    means_history = [means]\n",
    "    clusters_history = [clusters] \n",
    "    for iteration_i in range(n_iterations):\n",
    "        means, clusters = k_means_step(X, K, means)\n",
    "        clusters_history.append(clusters)\n",
    "\n",
    "    return X, y, means_history, clusters_history\n",
    "\n",
    "\n",
    "# Use an interactive cell to see the progress of training the K-means algorithm\n",
    "def get_cluster(i):\n",
    "    # Get the clusters from K-means' i-th iteration\n",
    "    clusters = clusters_history[i] \n",
    "    \n",
    "    # Plot\n",
    "    plt.figure(None, figsize=(15,6)) \n",
    "    plt.suptitle('Drag the slider to see the algorthm training progress')\n",
    "    ax1=plt.subplot(1, 2, 1)\n",
    "    ax1.set_title('K-means clsuters - step %d' % i)\n",
    "    \n",
    "    for k in range(K):\n",
    "        plt.plot(X[clusters==k,0], X[clusters==k,1], '.') # \n",
    "\n",
    "    # The truth clusters\n",
    "    ax2=plt.subplot(1, 2, 2)\n",
    "    ax2.set_title('The truth clusters')\n",
    "    for i in np.unique(y):\n",
    "        ax2.plot(X[y==i,0],X[y==i,1],'.')\n",
    "\n",
    "    plt.show()"
   ]
  },
  {
   "cell_type": "code",
   "execution_count": 3,
   "metadata": {},
   "outputs": [
    {
     "name": "stdout",
     "output_type": "stream",
     "text": [
      "The dataset is of a size: (1000, 2)\n"
     ]
    },
    {
     "data": {
      "application/vnd.jupyter.widget-view+json": {
       "model_id": "945152cf4bb443b28a84f74af04609ee",
       "version_major": 2,
       "version_minor": 0
      },
      "text/plain": [
       "interactive(children=(IntSlider(value=5, description='i', max=10, min=1), Output()), _dom_classes=('widget-int…"
      ]
     },
     "metadata": {},
     "output_type": "display_data"
    }
   ],
   "source": [
    "##### Visualization of K-means Clustering - 2D dataset #####\n",
    "# Select dataset and set K-param for K-mean clustering\n",
    "dataset_index = 1 \n",
    "K = 3\n",
    "\n",
    "# Get the data\n",
    "X, y, means_history, clusters_history = K_means_2D_dataset(dataset_index, K)\n",
    "\n",
    "# Interactive plot\n",
    "interactive(get_cluster, i=(1,len(clusters_history)-1,1))"
   ]
  },
  {
   "cell_type": "markdown",
   "metadata": {},
   "source": [
    "### 2. K-means Clustering - Image Segmentation \n",
    "2D data clustering is just a warm-up! Now it's time play with K-means for real image segementation!\n",
    "\n",
    "`k_means_segment()`: Separate the provided RGB values into k clusters using the k-means algorithm, then return an updated version of the image with the original values replaced with the corresponding cluster center values.\n",
    "\n",
    "Convergence test: Whether the assigned clusters stop changing (this convergence test could be slow...). Initial cluster means are provided if empty.\n",
    "\n",
    "For visualization purpose, color image data: `bird_color_24.png` is used. It's a multidimensional data with **rows x columns x color_channels**\n"
   ]
  },
  {
   "cell_type": "code",
   "execution_count": 4,
   "metadata": {
    "tags": [
     "graded"
    ]
   },
   "outputs": [],
   "source": [
    "def k_means_segment(image_values, k=3, initial_means=None):\n",
    "    \"\"\"\n",
    "    Separate the provided RGB values into k separate clusters using the k-means algorithm,\n",
    "    then return an updated version of the image with the original values replaced with\n",
    "    the corresponding cluster values.\n",
    "\n",
    "    params:\n",
    "    image_values (numpy.ndarray[numpy.ndarray[numpy.ndarray[float]]]): rows x columns x color_channels\n",
    "    k = int\n",
    "    initial_means (numpy.ndarray[numpy.ndarray[float]] or None)\n",
    "\n",
    "    returns:\n",
    "    updated_image_values (numpy.ndarray[numpy.ndarray[numpy.ndarray[float]]])\n",
    "    \"\"\"\n",
    "\n",
    "    # Flatten the image_value - reshape\n",
    "    height, width, depth = image_values.shape\n",
    "    image_values = image_values.reshape(height * width, depth)\n",
    "    \n",
    "    if initial_means is None:\n",
    "        means = get_initial_means(image_values, k)\n",
    "    else:\n",
    "        means = initial_means\n",
    "    \n",
    "    diff_cls = 100\n",
    "    clusters = np.zeros(image_values.shape[0])\n",
    "    \n",
    "    # Convergence test - no diff in clustering \n",
    "    while diff_cls != 0: \n",
    "        clusters_prev = clusters.copy()   # copy is needed!\n",
    "        means, clusters = k_means_step(image_values, k, means)\n",
    "        diff_cls = np.sum(clusters_prev - clusters)\n",
    "    \n",
    "    # Another convergence test - iteration depth\n",
    "#     itr = 0\n",
    "#     while itr <= iter_depth:\n",
    "#         means, clusters = k_means_step(image_values, k, means)\n",
    "#         itr += 1\n",
    "        \n",
    "    # Return updated image - use mean to represent each cluster\n",
    "    image_values_cp = image_values.copy()\n",
    "    for uniq in np.unique(clusters):\n",
    "        image_values_cp[clusters==uniq] = means[uniq]\n",
    "    \n",
    "    image_values_cp = image_values_cp.reshape(height, width, depth)\n",
    "    \n",
    "    return image_values_cp\n"
   ]
  },
  {
   "cell_type": "code",
   "execution_count": 38,
   "metadata": {},
   "outputs": [
    {
     "name": "stdout",
     "output_type": "stream",
     "text": [
      "Time took 0.39461 seconds to converge for K=3.\n",
      "Time took 0.98710 seconds to converge for K=5.\n",
      "Time took 1.47415 seconds to converge for K=8.\n",
      "Time took 3.52265 seconds to converge for K=12.\n"
     ]
    },
    {
     "data": {
      "image/png": "[encoded data removed]",
      "text/plain": [
       "<Figure size 1296x576 with 4 Axes>"
      ]
     },
     "metadata": {},
     "output_type": "display_data"
    }
   ],
   "source": [
    "##### Visualization of K-means Clustering - Image Segmentation #####\n",
    "# Let's test for diff combination of K:\n",
    "K_all = [3, 5, 8, 12]\n",
    "plt.figure(None,figsize=(18, 8))\n",
    "image_values = image_to_matrix('images/bird_color_24.png')\n",
    "\n",
    "for i in range(len(K_all)):\n",
    "    K = K_all[i]\n",
    "    tic = time.time()\n",
    "    \n",
    "    new_image = k_means_segment(image_values, k=K)\n",
    "    axi = plt.subplot(1,4,i+1)\n",
    "    axi.set_title('K=%d' % K)\n",
    "    axi.imshow(new_image)\n",
    "    \n",
    "    toc = time.time()\n",
    "    print('Time took %.5f seconds to converge for K=%d.' % ((toc-tic), K))\n",
    "\n",
    "plt.savefig(\"bird_all4.png\", bbox_inches='tight')\n",
    "plt.show()   "
   ]
  },
  {
   "cell_type": "markdown",
   "metadata": {},
   "source": [
    "## 2. Construct a Multivariate Gaussian Mixture Model (GMM)\n",
    "\n",
    "**Some resources on GMM: **\n",
    "1. `resources/gaussians.pdf`, `resources/Mixture-Models-and-EM_Bishop.pdf`\n",
    "2. Youtube video by Alexander Ihler:https://www.youtube.com/watch?v=qMTuMa86NzU\n",
    "\n",
    "- - -\n",
    "\n",
    "Now it's time to play! \n",
    "\n",
    "**Steps to implemente a Multivariate Gaussian Expectation Maximization algorithm:**\n",
    "\n",
    "1. Calculate the probability of a given data point (e.g. rgb value of a pixel) of belonging to a specific Gaussian component.\n",
    "2. Use expectation-maximization (EM) to train the model to represent the image as a mixture of Gaussians.\n",
    "3. Calculate the log likelihood of the trained model.\n",
    "4. Segment the image according to the trained model.\n",
    "5. Determine the best segmentation by iterating over model training and scoring, since EM isn't guaranteed to converge to the global maximum.\n",
    "\n",
    "To initialize EM, set each component's mean to the means value of randomly chosen pixels (same as for K-means) and calculate covariances based on the selected means, and set the mixing coefficients to a uniform distribution. \n",
    "\n",
    "**Convergence test:** If the new likelihood is within 10% of the previous likelihood for 10 consecutive iterations, the model has converged.\n",
    "\n",
    "**Highlight:** To have a better understanding of EM / GMM, only **Numpy** is used to accomplish this. Vectorization is implemented.\n",
    "\n",
    "\n",
    "**Functions get impletmented/modulized as following: **\n",
    "1. initialize_parameters\n",
    "2. prob\n",
    "3. E_step (vectorization required)\n",
    "4. M_step (vectorization required)\n",
    "5. likelihood \n",
    "6. train_model\n",
    "7. cluster\n",
    "8. segment\n",
    "9. best_segment\n"
   ]
  },
  {
   "cell_type": "code",
   "execution_count": 17,
   "metadata": {
    "tags": [
     "graded"
    ]
   },
   "outputs": [
    {
     "name": "stdout",
     "output_type": "stream",
     "text": [
      "UnitTest passed successfully!\n"
     ]
    }
   ],
   "source": [
    "def initialize_parameters(X, k):\n",
    "    \"\"\"\n",
    "    Return initial values for training of the GMM\n",
    "    Set component mean to a random\n",
    "    pixel's value (without replacement),\n",
    "    based on the mean calculate covariance matrices,\n",
    "    and set each component mixing coefficient (PIs)\n",
    "    to a uniform values\n",
    "    (e.g. 4 components -> [0.25,0.25,0.25,0.25]).\n",
    "    \n",
    "    params:\n",
    "    X = numpy.ndarray[numpy.ndarray[float]] - m x n\n",
    "    k = int\n",
    "    \n",
    "    returns:\n",
    "    MU = numpy.ndarray[numpy.ndarray[float]] - k x n\n",
    "    SIGMA = numpy.ndarray[numpy.ndarray[numpy.ndarray[float]]] - k x n x n\n",
    "    PI = numpy.ndarray[float] - k x 1 \n",
    "    \"\"\"\n",
    "    \n",
    "    row, col = X.shape\n",
    "    \n",
    "    # Select k random pixels as initial means \n",
    "    # shuffle the idx instead of X itself will save a copy of X!\n",
    "    idx = np.arange(row)\n",
    "    np.random.shuffle(idx)\n",
    "    MU = X[idx[:k], :]\n",
    "    \n",
    "    # Calc cov matrix based on random selected means\n",
    "    SIGMA = np.zeros((k, col, col))\n",
    "    for k_i in range(k):\n",
    "        SIGMA[k_i, :, :] = (1/row) * np.matmul((X - MU[k_i]).T, (X - MU[k_i]))\n",
    "    \n",
    "    # Calc PI\n",
    "    PI = np.repeat(1/k, k)\n",
    "    \n",
    "    return MU, SIGMA, PI\n",
    "    \n",
    "    \n",
    "def prob(x, mu, sigma):\n",
    "    \"\"\"Calculate the probability of a single\n",
    "    data point x under component with\n",
    "    the given mean and covariance.\n",
    "    # NOTE: there is nothing to vectorize here yet,\n",
    "    # it's a simple check to make sure you got the\n",
    "    # multivariate normal distribution formula right\n",
    "    # which is given by N(x;MU,SIGMA) above\n",
    "\n",
    "    params:\n",
    "    x = numpy.ndarray[float]\n",
    "    mu = numpy.ndarray[float]\n",
    "    sigma = numpy.ndarray[numpy.ndarray[float]]\n",
    "\n",
    "    returns:\n",
    "    probability = float\n",
    "    \"\"\"\n",
    "    \n",
    "    # Modifty this function to handle vector input of x!\n",
    "    # Need to expand dim if input is a single 1*n\n",
    "    if len(x.shape) == 1:\n",
    "        x = np.expand_dims(x, axis=0)\n",
    "    \n",
    "    row, col = x.shape\n",
    "    det_cov = np.linalg.det(sigma)\n",
    "    norm_coef = 1 / (np.sqrt(np.power(2 * np.pi, col) * det_cov))\n",
    "    \n",
    "    x_mu = x - mu\n",
    "    inv_cov = np.linalg.inv(sigma)\n",
    "    norm_main = np.sum(np.multiply(np.dot(x_mu, inv_cov), x_mu), axis=1) # this is the vectorization (not optimal...)\n",
    "    norm_exp = np.exp((-0.5) * norm_main)\n",
    "    \n",
    "    norm_pdf = norm_coef * norm_exp\n",
    "    \n",
    "    # Output has to be float if input x is 1*n, otherwise, output is vector m*n\n",
    "    if row == 1:\n",
    "        return norm_pdf[0]\n",
    "    else:\n",
    "        return norm_pdf    \n",
    "    "
   ]
  },
  {
   "cell_type": "code",
   "execution_count": 19,
   "metadata": {
    "tags": [
     "graded"
    ]
   },
   "outputs": [
    {
     "name": "stdout",
     "output_type": "stream",
     "text": [
      "UnitTest passed successfully!\n"
     ]
    }
   ],
   "source": [
    "def E_step(X,MU,SIGMA,PI,k):\n",
    "    \"\"\"\n",
    "    E-step - Expectation \n",
    "    Calculate responsibility for each\n",
    "    of the data points, for the given \n",
    "    MU, SIGMA and PI.\n",
    "    \n",
    "    params:\n",
    "    X = numpy.ndarray[numpy.ndarray[float]] - m x n\n",
    "    MU = numpy.ndarray[numpy.ndarray[float]] - k x n\n",
    "    SIGMA = numpy.ndarray[numpy.ndarray[numpy.ndarray[float]]] - k x n x n\n",
    "    PI = numpy.ndarray[float] - k x 1\n",
    "    k = int\n",
    "    \n",
    "    returns:\n",
    "    responsibility = numpy.ndarray[numpy.ndarray[float]] - k x m\n",
    "    \"\"\"\n",
    "    \n",
    "    row, col = X.shape\n",
    "    ri = np.zeros((k, row))\n",
    "    \n",
    "    # Calc Norm pdf of each datum for each cluster k\n",
    "    for ki in range(k):\n",
    "        ri[ki,:] = prob(X, MU[ki], SIGMA[ki])\n",
    "    \n",
    "    # Normalize ri using given PI\n",
    "    PI = np.expand_dims(PI, axis=1)     # need to expand PI to k * 1 !\n",
    "    ri = np.multiply(ri, PI)            # ri: k*m\n",
    "    ri_sum = np.sum(ri, axis=0)         \n",
    "    ri_sum = np.expand_dims(ri_sum, axis=0)  # must expand sum to 1*m to do np.divide later\n",
    "    ri = np.divide(ri, ri_sum)\n",
    "    \n",
    "    return ri\n",
    "    \n",
    "def M_step(X, r, k):\n",
    "    \"\"\"\n",
    "    M-step - Maximization\n",
    "    Calculate new MU, SIGMA and PI matrices\n",
    "    based on the given responsibilities.\n",
    "    \n",
    "    params:\n",
    "    X = numpy.ndarray[numpy.ndarray[float]] - m x n\n",
    "    r = numpy.ndarray[numpy.ndarray[float]] - k x m\n",
    "    k = int\n",
    "    \n",
    "    returns:\n",
    "    new_MU = numpy.ndarray[numpy.ndarray[float]] - k x n\n",
    "    new_SIGMA = numpy.ndarray[numpy.ndarray[numpy.ndarray[float]]] - k x n x n\n",
    "    new_PI = numpy.ndarray[float] - k x 1\n",
    "    \"\"\"\n",
    "\n",
    "    row, col = X.shape\n",
    "    \n",
    "    # Cacl total resp for each cluster k (k*1)\n",
    "    tot_r = np.sum(r, axis=1)\n",
    "    tot_r = np.expand_dims(tot_r, axis=1)    # need to expand dim on column (k,) --> (k,1)\n",
    "\n",
    "    \n",
    "    # Update MU - k*n\n",
    "    X_rwt = np.dot(r, X)   # k*n\n",
    "    new_MU = np.divide(X_rwt, tot_r)\n",
    "    \n",
    "    \n",
    "    # [Vectorization method]Update SIGMA use new_MU\n",
    "    # First reshape matrices to fit the vectorization\n",
    "    new_MU = np.expand_dims(new_MU, axis=1)         # (k*n) --> (k*1*n)\n",
    "    X_tmp = np.tile(X, (k,1)).reshape(k, row, col)  # (m*n) --> (k*m*n)   * don't modify X!\n",
    "    r = np.expand_dims(r, axis=2)                   # (k*1) --> (k*1*1)\n",
    "    tot_r = tot_r.reshape(k, 1, 1)                  # (k*1) --> (k*1*1)\n",
    "    \n",
    "    # Let's show the middle steps, but commented for faster speed (should use X_tmp below...)\n",
    "    # X1 = X - new_MU\n",
    "    # X2 = np.multiply(X1, r)     # element-wise multiply on each layer k: r * (X - new_MU) is done\n",
    "    # X3 = np.transpose(X2, axes=(0,2,1))   # transpose centain axes! (k*m*n) --> (k*n*m)\n",
    "    # X4 = np.matmul(X3, X1)      # must use np.matmul(), np.dot() won't work. (k*n*m) * (k*m*n) --> (k*n*n)\n",
    "    # new_SIGMA = (1/tot_r) * X4  # assign weight on each layer k\n",
    "    \n",
    "    new_SIGMA = (1/tot_r) * \\\n",
    "                np.matmul(np.transpose(np.multiply(r, (X_tmp - new_MU)), axes=(0,2,1)),\n",
    "                          (X_tmp - new_MU))\n",
    "    \n",
    "    # [Without vectorization method]Update SIGMA use new_MU\n",
    "    # new_SIGMA = np.zeros((k, col, col))\n",
    "    # for ki in range(k):\n",
    "    #     r_ki = np.expand_dims(r[ki], axis=1)\n",
    "\n",
    "    #     # Update the data X using the r\n",
    "    #     Xtmp = X.copy()\n",
    "    #     Xtmp = Xtmp - new_MU[ki]\n",
    "\n",
    "    #     # Update the k-th Cov\n",
    "    #     new_SIGMA[ki, :, :] = np.dot(np.multiply(Xtmp, r_ki).T, Xtmp) * (1/tot_r[ki])\n",
    "        \n",
    "        \n",
    "    # Update PI\n",
    "    new_PI = tot_r * (1/row)\n",
    "    \n",
    "    \n",
    "    # Reshape back for output\n",
    "    new_MU = new_MU.reshape(k, col)\n",
    "    new_PI = new_PI.reshape(k,)    # need to reshape back (k,1,1) --> (k,)    \n",
    "    \n",
    "    return new_MU, new_SIGMA, new_PI\n",
    "\n",
    "\n",
    "def likelihood(X, PI, MU, SIGMA, k):\n",
    "    \"\"\"Calculate a log likelihood to the \n",
    "    trained model based on the following\n",
    "    formula for posterior probability:\n",
    "    log10(Pr(X | mixing, mean, stdev)) = sum((n=1 to N), log10(sum((k=1 to K),\n",
    "                                      mixing_k * N(x_n | mean_k,stdev_k))))\n",
    "\n",
    "    Make sure you are using log base 10, instead of log base 2.\n",
    "    params:\n",
    "    X = numpy.ndarray[numpy.ndarray[float]] - m x n\n",
    "    MU = numpy.ndarray[numpy.ndarray[float]] - k x n\n",
    "    SIGMA = numpy.ndarray[numpy.ndarray[numpy.ndarray[float]]] - k x n x n\n",
    "    PI = numpy.ndarray[float] - k x 1\n",
    "    k = int\n",
    "\n",
    "    returns:\n",
    "    log_likelihood = int\n",
    "    \"\"\"\n",
    "    \n",
    "    row, col = X.shape\n",
    "    likelihood = np.zeros((k, row))\n",
    "    for ki in range(k):\n",
    "        likelihood[ki, :] = PI[ki] * prob(X, MU[ki], SIGMA[ki])\n",
    "        \n",
    "    # Take log of the sum(likelihood)\n",
    "    # middle step : \n",
    "    # np.sum(likelihood, axis=0))   # (1*m)\n",
    "    log_likelihood = np.sum(np.log10(np.sum(likelihood, axis=0)))\n",
    "    \n",
    "    return log_likelihood\n",
    "  "
   ]
  },
  {
   "cell_type": "code",
   "execution_count": 22,
   "metadata": {
    "tags": [
     "graded"
    ]
   },
   "outputs": [
    {
     "name": "stdout",
     "output_type": "stream",
     "text": [
      "UnitTest passed successfully!\n"
     ]
    }
   ],
   "source": [
    "def train_model(X, k, convergence_function, initial_values = None):\n",
    "    \"\"\"\n",
    "    Train the mixture model using the \n",
    "    expectation-maximization algorithm. \n",
    "    Which is an interative execution of\n",
    "    the E and M steps from above.\n",
    "    If the initial_values aer None, initialize them.\n",
    "    Else it's a tuple of the format (MU, SIGMA, PI).\n",
    "    Convergence is reached when convergence_function\n",
    "    returns terminate as True,\n",
    "    see default convergence_function example \n",
    "    in `helper_functions.py`\n",
    "\n",
    "    params:\n",
    "    X = numpy.ndarray[numpy.ndarray[float]] - m x n\n",
    "    k = int\n",
    "    convergence_function = func\n",
    "    initial_values = None or (MU, SIGMA, PI)\n",
    "\n",
    "    params:\n",
    "    returns:\n",
    "    new_MU = numpy.ndarray[numpy.ndarray[float]] - k x n\n",
    "    new_SIGMA = numpy.ndarray[numpy.ndarray[numpy.ndarray[float]]] - k x n x n\n",
    "    new_PI = numpy.ndarray[float] - k x 1\n",
    "    responsibility = numpy.ndarray[numpy.ndarray[float]] - k x m\n",
    "    \"\"\"\n",
    "\n",
    "    if initial_values is None:\n",
    "        initial_values = initialize_parameters(X, k)\n",
    "    \n",
    "    MU, SIGMA, PI = initial_values\n",
    "    loglike  = 0\n",
    "    conv_ctr = 0\n",
    "    tf_conv  = False\n",
    "    \n",
    "    while (tf_conv==False):\n",
    "        #print('Converge counter: ', conv_ctr)\n",
    "        loglike_pre = loglike\n",
    "        r = E_step(X, MU, SIGMA, PI, k)\n",
    "        MU, SIGMA, PI = M_step(X, r, k)\n",
    "        loglike = likelihood(X, PI, MU, SIGMA, k)\n",
    "        \n",
    "        conv_ctr, tf_conv = convergence_function(loglike_pre, loglike, conv_ctr)\n",
    "        \n",
    "    return MU, SIGMA, PI, r\n",
    "    "
   ]
  },
  {
   "cell_type": "code",
   "execution_count": 23,
   "metadata": {
    "tags": [
     "graded"
    ]
   },
   "outputs": [
    {
     "name": "stdout",
     "output_type": "stream",
     "text": [
      "UnitTest passed successfully!\n"
     ]
    }
   ],
   "source": [
    "def cluster(r):\n",
    "    \"\"\"\n",
    "    Based on a given responsibilities matrix\n",
    "    return an array of clusters.\n",
    "    Assign each datapoint to a cluster based,\n",
    "    on component with a max-likelihood \n",
    "    (maximum responsibility value).\n",
    "    \n",
    "    params:\n",
    "    r = numpy.ndarray[numpy.ndarray[float]] - k x m - responsibility matrix\n",
    "    \n",
    "    return:\n",
    "    clusters = numpy.ndarray[int] - m x 1 \n",
    "    \"\"\"\n",
    "\n",
    "    return np.argmax(r, axis=0)\n",
    "\n",
    "\n",
    "def segment(X, MU, k, r):\n",
    "    \"\"\"\n",
    "    Segment the X matrix into the pre-specified\n",
    "    number of components. Returns the matrix with \n",
    "    the each data point replace with its max-likelihood\n",
    "    component mean. E.g in case of image returns \n",
    "    the original matrix with the each pixel's \n",
    "    intensity replaced with its max-likelihood\n",
    "    component mean. (the shape is still mxn,\n",
    "    not original image size)\n",
    "\n",
    "    params:\n",
    "    X = numpy.ndarray[numpy.ndarray[float]] - m x n\n",
    "    MU = numpy.ndarray[numpy.ndarray[float]] - k x n\n",
    "    k = int\n",
    "    r = numpy.ndarray[numpy.ndarray[float]] - k x m - responsibility matrix\n",
    "\n",
    "    returns:\n",
    "    new_X = numpy.ndarray[numpy.ndarray[float]] - m x n\n",
    "    \"\"\"\n",
    "\n",
    "    clstr = cluster(r)    # m*1\n",
    "    new_X = X.copy()\n",
    "    for ki in range(k):\n",
    "        new_X[clstr==ki,:] = MU[ki]\n",
    "    \n",
    "    return new_X\n",
    "\n",
    "\n",
    "def best_segment(X,k,iters):\n",
    "    \"\"\"Determine the best segmentation\n",
    "    of the image by repeatedly\n",
    "    training the model and\n",
    "    calculating its likelihood.\n",
    "    Return the segment with the\n",
    "    highest likelihood.\n",
    "\n",
    "    params:\n",
    "    X = numpy.ndarray[numpy.ndarray[float]] - m x n\n",
    "    k = int\n",
    "    iters = int\n",
    "\n",
    "    returns:\n",
    "    likelihood = float\n",
    "    segment = numpy.ndarray[numpy.ndarray[float]]\n",
    "    \"\"\"\n",
    "    \n",
    "    likelihood_max = -np.inf\n",
    "    segment_bst = X.copy()\n",
    "    i = 0\n",
    "    \n",
    "    while i<=iters:\n",
    "        # Keep training the model (random initialize)\n",
    "        MU, SIGMA, PI, r = train_model(X, k, \n",
    "                                       convergence_function = default_convergence, \n",
    "                                       initial_values = None)\n",
    "        \n",
    "        # Segment the X using the training results\n",
    "        Xnew = segment(X, MU, k, r)\n",
    "        likelihood_tmp = likelihood(Xnew, PI, MU, SIGMA, k)\n",
    "        \n",
    "        # Update the best segment\n",
    "        if likelihood_tmp > likelihood_max:\n",
    "            likelihood_max = likelihood_tmp\n",
    "            # segment_bst = Xnew.copy()\n",
    "            segment_bst = Xnew  # let's see what if we don't give a copy\n",
    "        \n",
    "        i += 1\n",
    "    \n",
    "    \n",
    "    return likelihood_max, segment_bst\n",
    "    "
   ]
  },
  {
   "cell_type": "code",
   "execution_count": 73,
   "metadata": {
    "scrolled": true,
    "tags": [
     "graded"
    ]
   },
   "outputs": [
    {
     "name": "stdout",
     "output_type": "stream",
     "text": [
      "UnitTest passed successfully!\n"
     ]
    }
   ],
   "source": []
  },
  {
   "cell_type": "markdown",
   "metadata": {},
   "source": [
    "#### GMM - Visualizing the results\n",
    "\n",
    "Now that you are done with the EM implementation lets try to visualize what's happening if you repeat these steps multiple times.\n",
    "\n",
    "**You don't need to be implementing anything in the next 2 cells, but you are highly encouraged to play with parameters and datasets, to get a visual sense of what is happening at every step.\n",
    "\n",
    "\n",
    "Feel free to explore and improve the function below, it will be used for visualizing K-means progress\n",
    "but it's not required and WON'T effect your grade."
   ]
  },
  {
   "cell_type": "code",
   "execution_count": 77,
   "metadata": {
    "collapsed": true
   },
   "outputs": [],
   "source": [
    "def GMM_2D_dataset(dataset_index, K):\n",
    "    # Load the dataset from data folder\n",
    "    X = np.loadtxt(\"data/%d_dataset_X.csv\" % dataset_index, delimiter=\",\")\n",
    "    print(\"There are %d datapoints in the current dataset, each of a size %d\" % X.shape)\n",
    "    # Load the labels\n",
    "    # Clustering is unsupervised method, where no labels are provided\n",
    "    # However, since we generated the data outselves we know the labels,\n",
    "    # and load them for illustration purposes.\n",
    "    y = np.int16(np.loadtxt(\"data/%d_dataset_y.csv\" % dataset_index, delimiter=\",\"))\n",
    "    # Feel free to edit the termination condition for the EM algorithm\n",
    "    # Currently is just runs for n_iterations, before terminating\n",
    "    \n",
    "    MU, SIGMA, PI = initialize_parameters(X, K)\n",
    "    \n",
    "    clusters_history = []\n",
    "    for _ in range(200):\n",
    "        r = E_step(X,MU,SIGMA,PI,K)\n",
    "        new_MU, new_SIGMA, new_PI = M_step(X, r, K)\n",
    "        PI, MU, SIGMA = new_PI, new_MU, new_SIGMA\n",
    "        clusters = cluster(r)\n",
    "        clusters_history.append(clusters)\n",
    "\n",
    "    return X, y, clusters_history"
   ]
  },
  {
   "cell_type": "code",
   "execution_count": 78,
   "metadata": {},
   "outputs": [
    {
     "name": "stdout",
     "output_type": "stream",
     "text": [
      "There are 1000 datapoints in the current dataset, each of a size 2\n"
     ]
    },
    {
     "data": {
      "application/vnd.jupyter.widget-view+json": {
       "model_id": "568af254de804618a80c2386f2db6fe2",
       "version_major": 2,
       "version_minor": 0
      },
      "text/plain": [
       "interactive(children=(IntSlider(value=99, description='i', max=199), Output()), _dom_classes=('widget-interact…"
      ]
     },
     "metadata": {},
     "output_type": "display_data"
    }
   ],
   "source": [
    "# TRY DIFFERENT PARAMETERS\n",
    "dataset_index = 4 # for different dataset change it to number from [0,5]\n",
    "K = 3 # Number of clusters - play with this number\n",
    "\n",
    "X, y, clusters_history = GMM_2D_dataset(dataset_index, K)\n",
    "\n",
    "# This is an interactive cell to see the progress of training your GMM algorithm.\n",
    "# Feel free to improve the visualization code and share it with your classmates on Piazza.\n",
    "def get_cluster(i):\n",
    "    clusters = clusters_history[i] # Get the clusters from K-means' i-th iteration\n",
    "    plt.figure(None, figsize=(15,6)) # Set the plot size\n",
    "    plt.suptitle('Drag the slider to see the algorthm training progress')\n",
    "    ax1=plt.subplot(1, 2, 1)\n",
    "    ax1.set_title('K-means clsuters - step %d' % i)\n",
    "    for k in range(K):\n",
    "        plt.plot(X[clusters==k,0], X[clusters==k,1], '.') # \n",
    "        # Try to plot the centers of the clusters \n",
    "        # You can access them by calling means_history[i]\n",
    "        # How could you plot the area that belong to that cluster?\n",
    "\n",
    "    # Just to get a flavour of how the data looks like\n",
    "    ax2=plt.subplot(1, 2, 2)\n",
    "    ax2.set_title('Ground truth clusters')\n",
    "    for i in np.unique(y):\n",
    "        ax2.plot(X[y==i,0],X[y==i,1],'.')\n",
    "\n",
    "    plt.show()\n",
    "\n",
    "interactive(get_cluster, i=(0,len(clusters_history)-1,1))"
   ]
  },
  {
   "cell_type": "markdown",
   "metadata": {},
   "source": [
    "### Let's visualize the image compression results of GMM."
   ]
  },
  {
   "cell_type": "code",
   "execution_count": 11,
   "metadata": {},
   "outputs": [
    {
     "ename": "NameError",
     "evalue": "name 'best_segment' is not defined",
     "output_type": "error",
     "traceback": [
      "\u001b[1;31m---------------------------------------------------------------------------\u001b[0m",
      "\u001b[1;31mNameError\u001b[0m                                 Traceback (most recent call last)",
      "\u001b[1;32m<ipython-input-11-3f642f06cf45>\u001b[0m in \u001b[0;36m<module>\u001b[1;34m()\u001b[0m\n\u001b[0;32m      7\u001b[0m \u001b[1;33m\u001b[0m\u001b[0m\n\u001b[0;32m      8\u001b[0m \u001b[1;31m# start = time.time()\u001b[0m\u001b[1;33m\u001b[0m\u001b[1;33m\u001b[0m\u001b[0m\n\u001b[1;32m----> 9\u001b[1;33m \u001b[0m_\u001b[0m\u001b[1;33m,\u001b[0m \u001b[0mbest_seg\u001b[0m \u001b[1;33m=\u001b[0m \u001b[0mbest_segment\u001b[0m\u001b[1;33m(\u001b[0m\u001b[0mimage_matrix\u001b[0m\u001b[1;33m,\u001b[0m \u001b[0mK\u001b[0m\u001b[1;33m,\u001b[0m \u001b[0miters\u001b[0m \u001b[1;33m=\u001b[0m \u001b[1;36m10\u001b[0m\u001b[1;33m)\u001b[0m\u001b[1;33m\u001b[0m\u001b[0m\n\u001b[0m\u001b[0;32m     10\u001b[0m \u001b[1;31m# end = time.time()\u001b[0m\u001b[1;33m\u001b[0m\u001b[1;33m\u001b[0m\u001b[0m\n\u001b[0;32m     11\u001b[0m \u001b[1;31m# print('Time collapes: ', (end-start))\u001b[0m\u001b[1;33m\u001b[0m\u001b[1;33m\u001b[0m\u001b[0m\n",
      "\u001b[1;31mNameError\u001b[0m: name 'best_segment' is not defined"
     ]
    }
   ],
   "source": [
    "# import time\n",
    "\n",
    "image_file = 'images/bird_color_24.png' # Image path\n",
    "original_image_matrix = image_to_matrix(image_file) # Save original image\n",
    "image_matrix = original_image_matrix.reshape(-1,3) # collapse the dimension\n",
    "K = 5 # K\n",
    "\n",
    "# start = time.time()\n",
    "_, best_seg = best_segment(image_matrix, K, iters = 10)\n",
    "# end = time.time()\n",
    "# print('Time collapes: ', (end-start))\n",
    "\n",
    "new_image = best_seg.reshape(*original_image_matrix.shape) # reshape collapsed matrix to original size\n",
    "# Show the image\n",
    "plt.figure(None,figsize=(9,12))\n",
    "plt.imshow(new_image)\n",
    "plt.show()"
   ]
  },
  {
   "cell_type": "markdown",
   "metadata": {},
   "source": [
    "---"
   ]
  },
  {
   "cell_type": "markdown",
   "metadata": {},
   "source": [
    "## Part 3: Model Experimentation (20 pts)\n",
    "\n",
    "We'll now experiment with a few methods for improving GMM performance.\n",
    "\n",
    "## Part 3a: Improved Initialization \n",
    "\n",
    "12.5 points\n",
    "\n",
    "To run EM in our baseline Gaussian mixture model, we use random initialization to determine the initial values for our component means. We can do better than this!\n",
    "\n",
    "Fill in `improved_initialization()` with an improvement in component initialization. Please don't use any external packages for anything other than basic calculations. Note that your improvement might significantly slow down runtime, although we don't expect you to spend more than 10 minutes on initialization.\n",
    "\n",
    "Hint: you'll probably want an unsupervised learning method to initialize your component means. Clustering is one useful example of unsupervised learning."
   ]
  },
  {
   "cell_type": "code",
   "execution_count": 31,
   "metadata": {
    "tags": [
     "graded"
    ]
   },
   "outputs": [
    {
     "name": "stdout",
     "output_type": "stream",
     "text": [
      "improved_likelihood:  65666.62963381904\n",
      "UnitTest passed successfully!\n"
     ]
    }
   ],
   "source": [
    "def improved_initialization(X,k):\n",
    "    \"\"\"\n",
    "    Initialize the training\n",
    "    process by setting each\n",
    "    component mean using some algorithm that\n",
    "    you think might give better means to start with,\n",
    "    based on the mean calculate covariance matrices,\n",
    "    and set each component mixing coefficient (PIs)\n",
    "    to a uniform values\n",
    "    (e.g. 4 components -> [0.25,0.25,0.25,0.25]).\n",
    "    \n",
    "    params:\n",
    "    X = numpy.ndarray[numpy.ndarray[float]] - m x n\n",
    "    k = int\n",
    "    \n",
    "    returns:\n",
    "    MU = numpy.ndarray[numpy.ndarray[float]] - k x n\n",
    "    SIGMA = numpy.ndarray[numpy.ndarray[numpy.ndarray[float]]] - k x n x n\n",
    "    PI = numpy.ndarray[float] - k x 1 \n",
    "    \"\"\"\n",
    "\n",
    "    # First pick random means to start with\n",
    "    row, col = X.shape\n",
    "    idx = np.arange(row)\n",
    "    np.random.shuffle(idx)\n",
    "    \n",
    "    MU = X[idx[:k], :]\n",
    "    PI = np.repeat(1/k, k)\n",
    "    \n",
    "    # Run K-means itr times and calc loglikelihood each time\n",
    "    likelihood_max = -np.inf\n",
    "    MU_best = MU.copy()\n",
    "    SIGMA_best = np.zeros((k, col, col))\n",
    "    \n",
    "    i = 0\n",
    "    itr = 20\n",
    "    while i <= itr:\n",
    "        # Update means\n",
    "        MU, _ = k_means_step(X, k, MU)\n",
    "        \n",
    "        # Calc sigma\n",
    "        MU = np.expand_dims(MU, axis=1)    # (k*n) --> (k*1*n)\n",
    "        SIGMA = (1/row) * np.matmul(np.transpose((np.tile(X, (k,1)).reshape(k, row, col) - MU), axes=(0,2,1)), \n",
    "                                    (np.tile(X, (k,1)).reshape(k, row, col) - MU))     # (m*n) --> (k*m*n)\n",
    "        likelihood_tmp = likelihood(X, PI, MU, SIGMA, k)\n",
    "        \n",
    "        # Pick the one with highest likelihood\n",
    "        if likelihood_tmp > likelihood_max:\n",
    "            likelihood_max = likelihood_tmp\n",
    "            MU_best = MU.reshape(k, col).copy()\n",
    "            SIGMA_best = SIGMA.copy()\n",
    "        \n",
    "        i += 1\n",
    "    \n",
    "    \n",
    "    return MU_best, SIGMA_best, PI\n",
    "    \n",
    "########## DON'T WRITE ANY CODE OUTSIDE THE FUNCTION! ################\n",
    "##### CODE BELOW IS USED FOR RUNNING LOCAL TEST DON'T MODIFY IT ######\n",
    "tests.GMMTests().test_gmm_improvement(improved_initialization, initialize_parameters, train_model, likelihood)\n",
    "################ END OF LOCAL TEST CODE SECTION ######################"
   ]
  },
  {
   "cell_type": "markdown",
   "metadata": {},
   "source": [
    "## Part 3b: Convergence Condition\n",
    "\n",
    "7.5 points\n",
    "\n",
    "You might be skeptical of the convergence criterion we've provided in `default_convergence()`. To test out another convergence condition, implement `new_convergence_condition()` to return true if all the new model parameters (means, variances, and mixing coefficients) are within 10% of the previous variables for 10 consecutive iterations. This will mean re-implementing `train_model()`, which you will also do in `train_model_improved()` function."
   ]
  },
  {
   "cell_type": "code",
   "execution_count": 43,
   "metadata": {
    "tags": [
     "graded"
    ]
   },
   "outputs": [
    {
     "name": "stdout",
     "output_type": "stream",
     "text": [
      "UnitTest passed successfully!\n"
     ]
    }
   ],
   "source": [
    "def new_convergence_function(previous_variables, new_variables, conv_ctr,\n",
    "                             conv_ctr_cap=10):\n",
    "    \"\"\"\n",
    "    Convergence function\n",
    "    based on parameters:\n",
    "    when all variables vary by\n",
    "    less than 10% from the previous\n",
    "    iteration's variables, increase\n",
    "    the convergence counter.\n",
    "\n",
    "    params:\n",
    "\n",
    "    previous_variables = [numpy.ndarray[float]]\n",
    "                         containing [means, variances, mixing_coefficients]\n",
    "    new_variables = [numpy.ndarray[float]]\n",
    "                    containing [means, variances, mixing_coefficients]\n",
    "    conv_ctr = int\n",
    "    conv_ctr_cap = int\n",
    "\n",
    "    return:\n",
    "    conv_ctr = int\n",
    "    converged = boolean\n",
    "    \"\"\"\n",
    "\n",
    "    # Calc each param %age change use element-wise calculation\n",
    "    tf_cov_all = []\n",
    "    for para_i in range(len(previous_variables)):\n",
    "        chg_tmp = abs(np.divide(np.subtract(new_variables[para_i], previous_variables[para_i]), \n",
    "                                previous_variables[para_i]))\n",
    "        tf_cov_parai = np.max(chg_tmp) <= 0.05\n",
    "        tf_cov_all.append(tf_cov_parai)\n",
    "    \n",
    "    # Make sure all para %age change is <= 5% for 10 consecutive times...\n",
    "    if np.all(tf_cov_all):\n",
    "        conv_ctr += 1\n",
    "    else:\n",
    "        conv_ctr = 0\n",
    "    \n",
    "    return conv_ctr, conv_ctr > conv_ctr_cap\n",
    "    \n",
    "    \n",
    "def train_model_improved(X, k, convergence_function, initial_values = None):\n",
    "    \"\"\"\n",
    "    Train the mixture model using the \n",
    "    expectation-maximization algorithm. \n",
    "    Which is an interative execution of\n",
    "    the E and M steps from above.\n",
    "    Convergence is reached when convergence_function\n",
    "    returns terminate as True,\n",
    "    see default convergence_function example \n",
    "    in `helper_functions.py`\n",
    "\n",
    "    params:\n",
    "    X = numpy.ndarray[numpy.ndarray[float]] - m x n\n",
    "    k = int\n",
    "    convergence_function = func\n",
    "    initial_values = None or (MU, SIGMA, PI)\n",
    "\n",
    "    params:\n",
    "    returns:\n",
    "    new_MU = numpy.ndarray[numpy.ndarray[float]] - k x n\n",
    "    new_SIGMA = numpy.ndarray[numpy.ndarray[numpy.ndarray[float]]] - k x n x n\n",
    "    new_PI = numpy.ndarray[float] - k x 1\n",
    "    responsibility = numpy.ndarray[numpy.ndarray[float]] - k x m\n",
    "    \"\"\"\n",
    "    # This is single new_convergence_function condition: \n",
    "#     if initial_values is None:\n",
    "#         initial_values = improved_initialization(X, k)\n",
    "    \n",
    "#     MU, SIGMA, PI = initial_values\n",
    "#     para = [MU, SIGMA, PI]\n",
    "#     #loglike  = 0\n",
    "#     conv_ctr = 0\n",
    "#     tf_conv  = False\n",
    "    \n",
    "#     while (tf_conv==False):\n",
    "#         #print('Converge counter: ', conv_ctr)\n",
    "#         #loglike_pre = loglike\n",
    "#         para_pre = para.copy()\n",
    "#         r = E_step(X, MU, SIGMA, PI, k)\n",
    "#         MU, SIGMA, PI = M_step(X, r, k)\n",
    "#         para = [MU, SIGMA, PI]\n",
    "#         #loglike = likelihood(X, PI, MU, SIGMA, k)\n",
    "        \n",
    "#         conv_ctr, tf_conv = new_convergence_function(para_pre, para, conv_ctr)\n",
    "        \n",
    "#     return MU, SIGMA, PI, r    \n",
    "    \n",
    "    \n",
    "    # Following applies both new_convergence_function & default_convergence (both para chg and loglikelihood chg)\n",
    "    if initial_values is None:\n",
    "        initial_values = improved_initialization(X, k)\n",
    "    \n",
    "    MU, SIGMA, PI = initial_values\n",
    "    para = [MU, SIGMA, PI]\n",
    "    loglike  = 0\n",
    "    conv_ctr     = 0\n",
    "    conv_ctr_new = 0\n",
    "    tf_conv     = False\n",
    "    tf_conv_new = False\n",
    "    \n",
    "    while (tf_conv==False) or (tf_conv_new==False):\n",
    "        #print('Converge counter: ', conv_ctr)\n",
    "        loglike_pre = loglike\n",
    "        para_pre = para.copy()\n",
    "        \n",
    "        r = E_step(X, MU, SIGMA, PI, k)\n",
    "        MU, SIGMA, PI = M_step(X, r, k)\n",
    "        \n",
    "        para = [MU, SIGMA, PI]\n",
    "        loglike = likelihood(X, PI, MU, SIGMA, k)\n",
    "        \n",
    "        conv_ctr_new, tf_conv_new = new_convergence_function(para_pre, para, conv_ctr_new)\n",
    "        conv_ctr, tf_conv = default_convergence(loglike_pre, loglike, conv_ctr)\n",
    "        \n",
    "    return MU, SIGMA, PI, r\n",
    "    \n",
    "    \n",
    "########## DON'T WRITE ANY CODE OUTSIDE THE FUNCTION! ################\n",
    "# Unittest below will check both of the functions at the same time. \n",
    "##### CODE BELOW IS USED FOR RUNNING LOCAL TEST DON'T MODIFY IT ######\n",
    "tests.GMMTests().test_convergence_condition(improved_initialization, train_model_improved, initialize_parameters, train_model, likelihood, new_convergence_function)\n",
    "################ END OF LOCAL TEST CODE SECTION ######################"
   ]
  },
  {
   "cell_type": "markdown",
   "metadata": {},
   "source": [
    "## Part 4: Bayesian Information Criterion (20 pts)\n",
    "\n",
    "In our previous solutions, our only criterion for choosing a model was whether it maximizes the posterior likelihood regardless of how many parameters this requires. As a result, the \"best\" model may simply be the model with the most parameters, which would be overfit to the training data.\n",
    "\n",
    "To avoid overfitting, we can use the [Bayesian information criterion](https://en.wikipedia.org/wiki/Bayesian_information_criterion) (a.k.a. BIC) which penalizes models based on the number of parameters they use. In the case of the Gaussian mixture model, this is equal to the number of components times the number of variables per component (mean, variance and mixing coefficient).\n",
    "\n",
    "## Part 4a: Implement BIC\n",
    "\n",
    "5 points\n",
    "\n",
    "Implement `bayes_info_criterion()` to calculate the BIC of a trained Gaussian Mixture Model (based on the given parameters).\n"
   ]
  },
  {
   "cell_type": "code",
   "execution_count": 35,
   "metadata": {
    "tags": [
     "graded"
    ]
   },
   "outputs": [
    {
     "name": "stdout",
     "output_type": "stream",
     "text": [
      "UnitTest passed successfully!\n"
     ]
    }
   ],
   "source": [
    "def bayes_info_criterion(X, PI, MU, SIGMA, k):\n",
    "    \"\"\"\n",
    "    See description above\n",
    "    params:\n",
    "    X = numpy.ndarray[numpy.ndarray[float]] - m x n\n",
    "    MU = numpy.ndarray[numpy.ndarray[float]] - k x n\n",
    "    SIGMA = numpy.ndarray[numpy.ndarray[numpy.ndarray[float]]] - k x n x n\n",
    "    PI = numpy.ndarray[float] - k x 1\n",
    "    k = int\n",
    "    \n",
    "    return:\n",
    "    bayes_info_criterion = int\n",
    "    \"\"\"\n",
    "    \n",
    "    # Calculate number of para\n",
    "    row, col = X.shape\n",
    "    num_PI = 1\n",
    "    num_SIGMA = col * col\n",
    "    num_MU = col\n",
    "    num_para = k * (num_PI + num_SIGMA + num_MU)\n",
    "    \n",
    "    # Calc loglikelihood\n",
    "    log_like = likelihood(X, PI, MU, SIGMA, k)\n",
    "    BIC = np.log10(row) * num_para - 2 * log_like\n",
    "    \n",
    "    return BIC\n",
    "    \n",
    "    \n",
    "########## DON'T WRITE ANY CODE OUTSIDE THE FUNCTION! ################\n",
    "##### CODE BELOW IS USED FOR RUNNING LOCAL TEST DON'T MODIFY IT ######\n",
    "tests.GMMTests().test_bayes_info(bayes_info_criterion)\n",
    "################ END OF LOCAL TEST CODE SECTION ######################"
   ]
  },
  {
   "cell_type": "markdown",
   "metadata": {},
   "source": [
    "## Part 4b: Test BIC\n",
    "\n",
    "15 points\n",
    "\n",
    "Now implement `BIC_likelihood_model_test()`, in which you will use the BIC and likelihood to determine the optimal number of components in the `bird_color_24` image. Use the `train_model()` or `train_model_improved()`, iterate from k=2 to k=7 (k - # of clusters) and use the provided means to train a model that minimizes its BIC and a model that maximizes its likelihood.\n",
    "Then, fill out `BIC_likelihood_question()` to return the number of components in both the min-BIC and the max-likelihood model."
   ]
  },
  {
   "cell_type": "code",
   "execution_count": 37,
   "metadata": {
    "collapsed": true,
    "tags": [
     "graded"
    ]
   },
   "outputs": [],
   "source": [
    "def BIC_likelihood_model_test():\n",
    "    \"\"\"Test to compare the\n",
    "    models with the lowest BIC\n",
    "    and the highest likelihood.\n",
    "\n",
    "    returns:\n",
    "    n_comp_min_bic = int\n",
    "    n_comp_max_likelihood = int\n",
    "\n",
    "    \"\"\"\n",
    "    comp_means = [\n",
    "        np.array([[0.67644833, 0.63705593, 0.34151605],\n",
    "               [0.82106333, 0.803725  , 0.38302438]]),\n",
    "        np.array([[0.67644833, 0.63705593, 0.34151605],\n",
    "               [0.82106333, 0.803725  , 0.38302438],\n",
    "               [0.48719558, 0.43396747, 0.57330976]]),\n",
    "        np.array([[0.67644833, 0.63705593, 0.34151605],\n",
    "               [0.82106333, 0.803725  , 0.38302438],\n",
    "               [0.48719558, 0.43396747, 0.57330976],\n",
    "               [0.37512508, 0.7997302 , 0.64795305]]),\n",
    "        np.array([[0.67644833, 0.63705593, 0.34151605],\n",
    "               [0.82106333, 0.803725  , 0.38302438],\n",
    "               [0.48719558, 0.43396747, 0.57330976],\n",
    "               [0.37512508, 0.7997302 , 0.64795305],\n",
    "               [0.14751079, 0.351123  , 0.75471674]]),\n",
    "        np.array([[0.67644833, 0.63705593, 0.34151605],\n",
    "               [0.82106333, 0.803725  , 0.38302438],\n",
    "               [0.48719558, 0.43396747, 0.57330976],\n",
    "               [0.37512508, 0.7997302 , 0.64795305],\n",
    "               [0.14751079, 0.351123  , 0.75471674],\n",
    "               [0.56489468, 0.87895182, 0.25817842]]),\n",
    "        np.array([[0.67644833, 0.63705593, 0.34151605],\n",
    "               [0.82106333, 0.803725  , 0.38302438],\n",
    "               [0.48719558, 0.43396747, 0.57330976],\n",
    "               [0.37512508, 0.7997302 , 0.64795305],\n",
    "               [0.14751079, 0.351123  , 0.75471674],\n",
    "               [0.56489468, 0.87895182, 0.25817842],\n",
    "               [0.08769436, 0.80069854, 0.50162118]])\n",
    "        ]\n",
    "    \n",
    "    image_file = 'images/bird_color_24.png'\n",
    "    X = image_to_matrix(image_file).reshape(-1, 3)\n",
    "    row, col = X.shape\n",
    "    \n",
    "    # Initialize for two models\n",
    "    bic_min = np.inf\n",
    "    k_minbic = 0\n",
    "    \n",
    "    loglike_max = -np.inf\n",
    "    k_maxlike = 0\n",
    "    \n",
    "    for Mu in comp_means:\n",
    "        # Calc all para using the given mean\n",
    "        k = Mu.shape[0]\n",
    "        Mu_tmp = np.expand_dims(Mu, axis=1)    # (k*n) --> (k*1*n)\n",
    "        Sigma = (1/row) * np.matmul(np.transpose((np.tile(X, (k,1)).reshape(k, row, col) - Mu_tmp), axes=(0,2,1)), \n",
    "                                    (np.tile(X, (k,1)).reshape(k, row, col) - Mu_tmp))     # (m*n) --> (k*m*n)\n",
    "        Pi = np.repeat(1/k, k)\n",
    "        initial_values = (Mu, Sigma, Pi)\n",
    "        \n",
    "        # Train the model\n",
    "        Mu, Sigma, Pi, r = train_model_improved(X, k, new_convergence_function, initial_values)\n",
    "        \n",
    "        # Calc BIC\n",
    "        bic_tmp = bayes_info_criterion(X, Pi, Mu, Sigma, k)\n",
    "        \n",
    "        # Calc likelihood\n",
    "        loglike_tmp = likelihood(X, Pi, Mu, Sigma, k)\n",
    "        \n",
    "        if bic_tmp < bic_min:\n",
    "            bic_min = bic_tmp\n",
    "            k_minbic = k\n",
    "            \n",
    "        if loglike_tmp > loglike_max:\n",
    "            loglike_max = loglike_tmp\n",
    "            k_maxlike = k\n",
    "    \n",
    "    return k_minbic, k_maxlike\n",
    "    \n"
   ]
  },
  {
   "cell_type": "code",
   "execution_count": 41,
   "metadata": {},
   "outputs": [
    {
     "name": "stdout",
     "output_type": "stream",
     "text": [
      "k_minbic: 7 k_maxlike 7\n"
     ]
    }
   ],
   "source": [
    "# Feel free to use this cell to run your implementation\n",
    "\n",
    "# let's run the BIC test for 5 times\n",
    "# i = 0\n",
    "# while i<=5:\n",
    "#     k_minbic, k_maxlike = BIC_likelihood_model_test()\n",
    "#     print('k_minbic:', k_minbic,'k_maxlike', k_maxlike)\n",
    "#     i+=1\n",
    "\n",
    "k_minbic, k_maxlike = BIC_likelihood_model_test()\n",
    "# print('k_minbic:', k_minbic,'k_maxlike', k_maxlike)\n",
    "\n"
   ]
  },
  {
   "cell_type": "code",
   "execution_count": 39,
   "metadata": {
    "collapsed": true,
    "tags": [
     "graded"
    ]
   },
   "outputs": [],
   "source": [
    "def BIC_likelihood_question():\n",
    "    \"\"\"\n",
    "    Choose the best number of\n",
    "    components for each metric\n",
    "    (min BIC and maximum likelihood).\n",
    "\n",
    "    returns:\n",
    "    pairs = dict\n",
    "    \"\"\"\n",
    "    bic = 7\n",
    "    likelihood = 7\n",
    "    pairs = {\n",
    "        'BIC': bic,\n",
    "        'likelihood': likelihood\n",
    "    }\n",
    "    return pairs"
   ]
  },
  {
   "cell_type": "markdown",
   "metadata": {},
   "source": [
    "## Part 5: Return your name\n",
    "\n",
    "1 point\n",
    "\n",
    "A simple task to wind down the assignment. Return your name from the function aptly called `return_your_name()`.\n"
   ]
  },
  {
   "cell_type": "code",
   "execution_count": null,
   "metadata": {
    "collapsed": true,
    "tags": [
     "graded"
    ]
   },
   "outputs": [],
   "source": [
    "def return_your_name():\n",
    "    # return your name\n",
    "    # TODO: finish this\n",
    "    return 'Yuchen An'\n"
   ]
  },
  {
   "cell_type": "markdown",
   "metadata": {},
   "source": [
    "## Part 6: Bonus\n",
    "\n",
    "+5 points\n",
    "\n",
    "#### Bonus points are added to the grade for this assignment, not to your overall grade.\n",
    "\n",
    "A crucial part of machine learning is working with very large datasets. As stated before, using for loops over these datasets will result in the code taking many hours, or even several days, to run. Even vectorization can take time if not done properly, and as such there are certain tricks you can perform to get your code to run as fast as physically possible.\n",
    "\n",
    "For this part of the assignment, you will need to implement part of a k-Means algorithm. You are given two arrays - points_array with X n-dimensional points, and means_array with Y n-dimensional points. You will need to return an X x Y array containing the distances from each point in points_array to each point in means_array.\n",
    "\n",
    "Your code will be tested using two very large arrays, against our reference implementation.\n",
    "\n",
    "If your implementation returns the correct answer in time comparable to our implementation, you will receive 5 bonus points on this assignment.\n",
    "\n",
    "For reference, the data used is in the order of thousands of points and hundreds of means, and Bonnie automatically kills a grading script that takes more than 250MB. So please test accordingly locally before submitting, as you may lose a submission for an inefficient solution. It is very likely that you could run out of memory if your implementation is inefficient.\n",
    "\n",
    "\n",
    "You're done with the requirements! Hope you have completed the functions in the `mixture_models.py` file and tested everything using `mixture_tests.py`.\n"
   ]
  },
  {
   "cell_type": "code",
   "execution_count": null,
   "metadata": {
    "collapsed": true,
    "tags": [
     "graded"
    ]
   },
   "outputs": [],
   "source": [
    "def bonus(points_array, means_array):\n",
    "    \"\"\"\n",
    "    Return the distance from every point in points_array\n",
    "    to every point in means_array.\n",
    "\n",
    "    returns:\n",
    "    dists = numpy array of float\n",
    "    \"\"\"\n",
    "    # TODO: fill in the bonus function\n",
    "    # REMOVE THE LINE BELOW IF ATTEMPTING BONUS\n",
    "    raise NotImplementedError()\n",
    "    return dists\n",
    "\n",
    "# There are no local test for thus question, fill free to create them yourself.\n",
    "# Feel free to play with it in a separate python file, and then just copy over \n",
    "# your implementation before the submission."
   ]
  },
  {
   "cell_type": "markdown",
   "metadata": {},
   "source": [
    "---"
   ]
  },
  {
   "cell_type": "markdown",
   "metadata": {},
   "source": [
    "## Congrats, you are done with the part of the assignment which is graded\n",
    "### Please follow the instructions in the README to submit your code for grading."
   ]
  },
  {
   "cell_type": "markdown",
   "metadata": {},
   "source": [
    "- - -\n"
   ]
  },
  {
   "cell_type": "markdown",
   "metadata": {},
   "source": [
    "Next is as promised segmentation of the Point Cloud data. \n",
    "\n",
    "In order to run the code below you first need to install an `open3d` library. If you used `pip install -r requirements.txt` command for this assignment, it should already be installed. Else, you can install it `pip install open3d-python` command, if you used virtual environment, make sure to activate it before running the code.\n",
    "\n",
    "You can also refer to official Open3d documentation http://www.open3d.org/docs/getting_started.html for details about the installation and library itself."
   ]
  },
  {
   "cell_type": "markdown",
   "metadata": {},
   "source": [
    "RGBD (**RGB** + **D**epth) data is usually stored as two separated images, one contains RGB (color) information and second one contains only depth, thus is a grayscale image. Let's load a data sample visualize it."
   ]
  },
  {
   "cell_type": "code",
   "execution_count": null,
   "metadata": {
    "collapsed": true
   },
   "outputs": [],
   "source": [
    "from open3d import * "
   ]
  },
  {
   "cell_type": "code",
   "execution_count": null,
   "metadata": {
    "collapsed": true
   },
   "outputs": [],
   "source": [
    "# Function below load the data\n",
    "def load_rgbd_image(image_path, depth_path):\n",
    "    color_raw = read_image(image_path)\n",
    "    depth_raw = read_image(depth_path)\n",
    "    #  details about function http://www.open3d.org/docs/tutorial/Basic/rgbd_odometry.html\n",
    "    # We are using a data sample from the SUN RGB-D (http://rgbd.cs.princeton.edu/) dataset\n",
    "    return color_raw, depth_raw\n",
    "\n",
    "# We can plot these images separately using the function below\n",
    "def plot_rgbd(color_image, depth_image):\n",
    "    plt.figure(None,(15,15))\n",
    "    plt.subplot(1, 3, 1)\n",
    "    plt.title('Color image')\n",
    "    plt.imshow(color_image)\n",
    "    plt.subplot(1, 3, 2)\n",
    "    plt.title('SUN depth image')\n",
    "    plt.imshow(depth_image)\n",
    "    plt.show()"
   ]
  },
  {
   "cell_type": "code",
   "execution_count": null,
   "metadata": {
    "collapsed": true,
    "scrolled": false
   },
   "outputs": [],
   "source": [
    "import glob\n",
    "rgbd_dataset = glob.glob('rgbd/image/*.jpg') # TODO fix it\n",
    "image_number = 3 # [0,4] there are five different images in the folder\n",
    "\n",
    "image_file = rgbd_dataset[image_number]\n",
    "depth_file = image_file.replace('image','depth')[:-4] + '.png'\n",
    "assert os.path.isfile(image_file); \n",
    "assert os.path.isfile(depth_file);\n",
    "color_image, depth_image = load_rgbd_image(image_file, depth_file)\n",
    "plot_rgbd(color_image, depth_image)"
   ]
  },
  {
   "cell_type": "code",
   "execution_count": null,
   "metadata": {
    "collapsed": true
   },
   "outputs": [],
   "source": [
    "# Next we can convert the depth image into a point cloud \n",
    "def show_point_cloud(color_raw, depth_raw):\n",
    "    rgbd_image = create_rgbd_image_from_sun_format(color_raw, depth_raw);\n",
    "    pcd = create_point_cloud_from_rgbd_image(rgbd_image, \n",
    "                 PinholeCameraIntrinsic(PinholeCameraIntrinsicParameters.PrimeSenseDefault))\n",
    "    # Flip it, otherwise the pointcloud will be upside down\n",
    "    pcd.transform([[1, 0, 0, 0], [0, -1, 0, 0], [0, 0, -1, 0], [0, 0, 0, 1]])\n",
    "    draw_geometries([pcd])\n",
    "    return pcd"
   ]
  },
  {
   "cell_type": "code",
   "execution_count": null,
   "metadata": {
    "collapsed": true
   },
   "outputs": [],
   "source": [
    "pcd = show_point_cloud(color_image, depth_image)"
   ]
  },
  {
   "cell_type": "code",
   "execution_count": null,
   "metadata": {
    "collapsed": true
   },
   "outputs": [],
   "source": [
    "# Lets have a look at the structure of the point cloud data\n",
    "pcd_points = np.asarray(pcd.points)\n",
    "print(\"Point cloud data - shape:\", pcd_points.shape)"
   ]
  },
  {
   "cell_type": "markdown",
   "metadata": {},
   "source": [
    "Point cloud data is represented as an unsorted set of the size M x N., where M is the number of points and N is the x,y,z value for each point. If you are interested you can access the color data in `pcd.colors`."
   ]
  },
  {
   "cell_type": "markdown",
   "metadata": {},
   "source": [
    "Let us try to perform a segmentation on the image we just loaded."
   ]
  },
  {
   "cell_type": "code",
   "execution_count": null,
   "metadata": {
    "collapsed": true
   },
   "outputs": [],
   "source": [
    "# Setting the number of clusters\n",
    "K = 5\n",
    "# Note: it's just a simple train model run\n",
    "# To improve it you can adapt the best_segment() \n",
    "# to generate the clusters with the best model\n",
    "initial_params = initialize_parameters(pcd_points, K)\n",
    "MU, SIGMA, PI, r = train_model(pcd_points, K,\n",
    "                               convergence_function=default_convergence,\n",
    "                               initial_values=initial_params)\n",
    "clusters = cluster(r)"
   ]
  },
  {
   "cell_type": "code",
   "execution_count": null,
   "metadata": {
    "collapsed": true
   },
   "outputs": [],
   "source": [
    "# Generate a set of size K of distinct color to plot the clusters\n",
    "# Adapted from https://stackoverflow.com/questions/876853/generating-color-ranges-in-python\n",
    "import colorsys\n",
    "HSV_tuples = [(x*1.0/K, 1.0, 1.0) for x in range(K)]\n",
    "color_maps = list(map(lambda x: colorsys.hsv_to_rgb(*x), HSV_tuples))"
   ]
  },
  {
   "cell_type": "markdown",
   "metadata": {},
   "source": [
    "### Visualizing the segmented point cloud data!"
   ]
  },
  {
   "cell_type": "code",
   "execution_count": null,
   "metadata": {
    "collapsed": true
   },
   "outputs": [],
   "source": [
    "or_pcd = PointCloud() # Create new point cloud handler\n",
    "or_pcd.points = Vector3dVector(pcd_points) # set point cloud data\n",
    "colors = np.zeros_like(pcd_points) # initialize colors to 0\n",
    "for i, point in enumerate(np.unique(clusters)):\n",
    "    random_color = color_maps[i]\n",
    "    cluster_mask = (clusters == point) # get the mask of the cluster i\n",
    "    colors[cluster_mask,:] = random_color # set random color to all the point of this segment\n",
    "or_pcd.colors = Vector3dVector(colors) # set color data\n",
    "draw_geometries([or_pcd]) # visualize point cloud"
   ]
  },
  {
   "cell_type": "markdown",
   "metadata": {},
   "source": [
    "Some questions to think about:\n",
    "- Would adding a color help or harm the segmentation results?\n",
    "- How about the case: segment RGB data -> add depth -> convert to Point Cloud -> cluster? Would that help/harm?\n",
    "- Could you think of a way you could compress the point cloud data?\n",
    "\n",
    "Things to try:\n",
    "- Segmentation here is done in purely unsupervised manner, you could manually combine multiple gaussian\n",
    "- How about merging multiple scenes into a single one? You could crop one segment from one scene and place it inside another scene.\n",
    "- Try K-means on point cloud data and see what results does it produces\n",
    "- Can we omit the step of conversion to point cloud? And use depth only? Or depth with x,y coordinates?"
   ]
  },
  {
   "cell_type": "markdown",
   "metadata": {},
   "source": [
    "### ~END~"
   ]
  }
 ],
 "metadata": {
  "kernelspec": {
   "display_name": "Python 3",
   "language": "python",
   "name": "python3"
  },
  "language_info": {
   "codemirror_mode": {
    "name": "ipython",
    "version": 3
   },
   "file_extension": ".py",
   "mimetype": "text/x-python",
   "name": "python",
   "nbconvert_exporter": "python",
   "pygments_lexer": "ipython3",
   "version": "3.6.5"
  }
 },
 "nbformat": 4,
 "nbformat_minor": 2
}
